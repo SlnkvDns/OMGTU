{
 "cells": [
  {
   "cell_type": "code",
   "execution_count": 9,
   "metadata": {
    "dotnet_interactive": {
     "language": "csharp"
    },
    "polyglot_notebook": {
     "kernelName": "csharp"
    }
   },
   "outputs": [],
   "source": [
    "class TrapezoidalRule\n",
    "{\n",
    "    public static double Solve(Func<double, double> f, double a, double b, double dx)\n",
    "    {\n",
    "\n",
    "        double square = 0;\n",
    "        double x1 = a;\n",
    "        double x2 = a + dx;\n",
    "        while (x2 <= b)\n",
    "        {\n",
    "            if (x1 + dx <= x1 + Double.Epsilon) throw new ArgumentException();\n",
    "            square += ((f(x1) + f(x2)) / 2) * dx;\n",
    "            x1 += dx;\n",
    "            x2 += dx;\n",
    "        }\n",
    "        if (x2 > b)\n",
    "        {\n",
    "            square += ((f(x1) + f(b)) / 2) * (b - x1);\n",
    "        }\n",
    "        return square;\n",
    "    }\n",
    "}"
   ]
  },
  {
   "cell_type": "code",
   "execution_count": 10,
   "metadata": {
    "dotnet_interactive": {
     "language": "csharp"
    },
    "polyglot_notebook": {
     "kernelName": "csharp"
    }
   },
   "outputs": [
    {
     "name": "stdout",
     "output_type": "stream",
     "text": [
      "36.00000000512992\r\n"
     ]
    }
   ],
   "source": [
    "Func<double, double> f = (double x) => -x*x + 9;\n",
    "\n",
    "Console.WriteLine(TrapezoidalRule.Solve(f, -3, 3, 0.0000001));"
   ]
  }
 ],
 "metadata": {
  "kernelspec": {
   "display_name": ".NET (C#)",
   "language": "C#",
   "name": ".net-csharp"
  },
  "language_info": {
   "name": "polyglot-notebook"
  },
  "polyglot_notebook": {
   "kernelInfo": {
    "defaultKernelName": "csharp",
    "items": [
     {
      "aliases": [],
      "languageName": "csharp",
      "name": "csharp"
     }
    ]
   }
  }
 },
 "nbformat": 4,
 "nbformat_minor": 2
}
