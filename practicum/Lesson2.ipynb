{
 "cells": [
  {
   "cell_type": "code",
   "execution_count": 6,
   "metadata": {
    "dotnet_interactive": {
     "language": "csharp"
    },
    "polyglot_notebook": {
     "kernelName": "csharp"
    }
   },
   "outputs": [],
   "source": [
    "class TrapezoidalRule\n",
    "{\n",
    "    public static double Solve(Func<double, double> f, double a, double b, double dx)\n",
    "    {\n",
    "        double epsilon = 1e-7;\n",
    "        if (dx <= epsilon) throw new ArgumentException();\n",
    "        double square = 0;\n",
    "        double x1 = a;\n",
    "        double x2 = a + dx;\n",
    "        while (x2 - b <= epsilon)\n",
    "        {\n",
    "            square += ((f(x1) + f(x2)) / 2) * dx;\n",
    "            x1 += dx;\n",
    "            x2 += dx;\n",
    "        }\n",
    "        if (x2 - b > epsilon)\n",
    "            square += ((f(x1) + f(b)) / 2) * (b - x1);\n",
    "        return square;\n",
    "    }\n",
    "}"
   ]
  },
  {
   "cell_type": "code",
   "execution_count": 8,
   "metadata": {
    "dotnet_interactive": {
     "language": "csharp"
    },
    "polyglot_notebook": {
     "kernelName": "csharp"
    }
   },
   "outputs": [
    {
     "name": "stdout",
     "output_type": "stream",
     "text": [
      "-101.33333340917011\r\n"
     ]
    }
   ],
   "source": [
    "Func<double, double> f = (double x) => -x*x + 9;\n",
    "\n",
    "Console.WriteLine(TrapezoidalRule.Solve(f, 10, 11, 0.000001));"
   ]
  }
 ],
 "metadata": {
  "kernelspec": {
   "display_name": ".NET (C#)",
   "language": "C#",
   "name": ".net-csharp"
  },
  "language_info": {
   "name": "polyglot-notebook"
  },
  "polyglot_notebook": {
   "kernelInfo": {
    "defaultKernelName": "csharp",
    "items": [
     {
      "aliases": [],
      "languageName": "csharp",
      "name": "csharp"
     }
    ]
   }
  }
 },
 "nbformat": 4,
 "nbformat_minor": 2
}
