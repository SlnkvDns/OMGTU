{
 "cells": [
  {
   "cell_type": "code",
   "execution_count": 144,
   "metadata": {
    "dotnet_interactive": {
     "language": "csharp"
    },
    "polyglot_notebook": {
     "kernelName": "csharp"
    }
   },
   "outputs": [],
   "source": [
    "class TrapezoidalRule\n",
    "{\n",
    "    public static double Solve(Func<double, double> f, double a, double b, double dx)\n",
    "    {\n",
    "        double epsilon = 1e-7;\n",
    "\n",
    "        if (dx <= epsilon || Math.Abs(b-a) <= epsilon || !Double.IsNormal(b) || !Double.IsNormal(a)) throw new ArgumentException();\n",
    "        double square = 0;\n",
    "\n",
    "        int n = (int)((b-a)/dx);\n",
    "        for (int i = 0; i < n; i++)\n",
    "        {\n",
    "            double x1 = a + i*dx;\n",
    "            double x2 = a + i*dx + dx;\n",
    "            square += ((f(x1) + f(x2)) / 2) * dx;\n",
    "        }\n",
    "        if (n * dx < b - a)\n",
    "        {\n",
    "            double x1 = a + n*dx;\n",
    "            square += ((f(x1) + f(b)) / 2) * (b - x1);\n",
    "        }\n",
    "            \n",
    "        return square;\n",
    "    }\n",
    "}"
   ]
  },
  {
   "cell_type": "code",
   "execution_count": 145,
   "metadata": {
    "dotnet_interactive": {
     "language": "csharp"
    },
    "polyglot_notebook": {
     "kernelName": "csharp"
    }
   },
   "outputs": [
    {
     "name": "stdout",
     "output_type": "stream",
     "text": [
      "15\r\n"
     ]
    }
   ],
   "source": [
    "Func<double, double> f = (double x) => -x*x + 9;\n",
    "\n",
    "Console.WriteLine(TrapezoidalRule.Solve(f, -3, 3, 5));"
   ]
  }
 ],
 "metadata": {
  "kernelspec": {
   "display_name": ".NET (C#)",
   "language": "C#",
   "name": ".net-csharp"
  },
  "language_info": {
   "name": "polyglot-notebook"
  },
  "polyglot_notebook": {
   "kernelInfo": {
    "defaultKernelName": "csharp",
    "items": [
     {
      "aliases": [],
      "languageName": "csharp",
      "name": "csharp"
     }
    ]
   }
  }
 },
 "nbformat": 4,
 "nbformat_minor": 2
}
