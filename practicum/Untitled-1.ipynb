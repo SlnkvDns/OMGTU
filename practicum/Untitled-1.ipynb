{
 "cells": [
  {
   "cell_type": "code",
   "execution_count": 28,
   "metadata": {
    "dotnet_interactive": {
     "language": "csharp"
    },
    "polyglot_notebook": {
     "kernelName": "csharp"
    }
   },
   "outputs": [],
   "source": [
    "class TrapezoidalRule\n",
    "{\n",
    "    public static double Solve(Func<double, double> f, double a, double b, double dx)\n",
    "    {\n",
    "\n",
    "        double square = 0;\n",
    "        double x1 = a;\n",
    "        double x2 = a + dx;\n",
    "        double epsilon = 1E-8;\n",
    "        if (dx <= epsilon) throw new ArgumentException();\n",
    "        while (x2 - b <= epsilon)\n",
    "        {\n",
    "            square += ((f(x1) + f(x2)) / 2) * dx;\n",
    "            x1 += dx;\n",
    "            x2 += dx;\n",
    "        }\n",
    "        if (x2 - b > epsilon)\n",
    "        {\n",
    "            square += ((f(x1) + f(b)) / 2) * (b - x1);\n",
    "        }\n",
    "        return square;\n",
    "    }\n",
    "}"
   ]
  },
  {
   "cell_type": "code",
   "execution_count": 38,
   "metadata": {
    "dotnet_interactive": {
     "language": "csharp"
    },
    "polyglot_notebook": {
     "kernelName": "csharp"
    }
   },
   "outputs": [
    {
     "name": "stdout",
     "output_type": "stream",
     "text": [
      "2.6905\r\n"
     ]
    }
   ],
   "source": [
    "Func<double, double> f = (double x) => -x*x + 9;\n",
    "\n",
    "Console.WriteLine(TrapezoidalRule.Solve(f, 0, 0.3, 0.1));"
   ]
  },
  {
   "cell_type": "code",
   "execution_count": 33,
   "metadata": {
    "dotnet_interactive": {
     "language": "csharp"
    },
    "polyglot_notebook": {
     "kernelName": "csharp"
    }
   },
   "outputs": [],
   "source": [
    "class TrapezoidalRule{\n",
    "    public static double Solve(Func<double, double> f, double a, double b, double dx){\n",
    "        double square = 0;\n",
    "        double x1 = a;\n",
    "        double x2 = a + dx;\n",
    "        double epsilon = 1E-9;\n",
    "        if (x2 <= a + epsilon) throw new ArgumentException(\"Too small value\");\n",
    "        for(int i = 0; i < Math.Truncate(Math.Abs(b-a) / dx); i++)\n",
    "        {\n",
    "            square += ((f(x1) + f(x2)) / 2) * dx;\n",
    "            x1 += dx;\n",
    "            x2 += dx;\n",
    "        }\n",
    "        if (x2 > b) square += ((f(x1) + f(b)) / 2) * (b - x1);\n",
    "        return square;\n",
    "    }\n",
    "}\n"
   ]
  },
  {
   "cell_type": "code",
   "execution_count": 39,
   "metadata": {
    "dotnet_interactive": {
     "language": "csharp"
    },
    "polyglot_notebook": {
     "kernelName": "csharp"
    }
   },
   "outputs": [
    {
     "name": "stdout",
     "output_type": "stream",
     "text": [
      "2.6905\r\n"
     ]
    }
   ],
   "source": [
    "Func<double, double> f = (double x) => -x*x + 9;\n",
    "Console.WriteLine(TrapezoidalRule.Solve(f, 0, 0.3, 0.1))"
   ]
  }
 ],
 "metadata": {
  "kernelspec": {
   "display_name": ".NET (C#)",
   "language": "C#",
   "name": ".net-csharp"
  },
  "language_info": {
   "name": "polyglot-notebook"
  },
  "polyglot_notebook": {
   "kernelInfo": {
    "defaultKernelName": "csharp",
    "items": [
     {
      "aliases": [],
      "languageName": "csharp",
      "name": "csharp"
     }
    ]
   }
  }
 },
 "nbformat": 4,
 "nbformat_minor": 2
}
